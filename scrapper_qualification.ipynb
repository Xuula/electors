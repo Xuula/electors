{
  "cells": [
    {
      "cell_type": "markdown",
      "source": [
        "## Установка зависимостей"
      ],
      "metadata": {
        "id": "_0VXs84CakmV"
      }
    },
    {
      "cell_type": "code",
      "execution_count": null,
      "metadata": {
        "id": "Gj0qTFKXgKpr"
      },
      "outputs": [],
      "source": [
        "!pip install selenium\n",
        "!pip install webdriver_manager\n",
        "!apt-get update # to update ubuntu to correctly run apt install\n",
        "!apt install chromium-chromedriver\n",
        "!cp /usr/lib/chromium-browser/chromedriver /usr/bin\n",
        "import sys\n",
        "sys.path.insert(0,'/usr/lib/chromium-browser/chromedriver')"
      ]
    },
    {
      "cell_type": "markdown",
      "source": [
        "## Запуск браузера"
      ],
      "metadata": {
        "id": "ZAcXSCfXarXy"
      }
    },
    {
      "cell_type": "code",
      "execution_count": null,
      "metadata": {
        "id": "LQAiLjMqgkg-"
      },
      "outputs": [],
      "source": [
        "from selenium import webdriver\n",
        "from selenium.webdriver.chrome.service import Service\n",
        "from webdriver_manager.chrome import ChromeDriverManager\n",
        "from selenium.webdriver.common.by import By\n",
        "from selenium.webdriver.chrome.options import Options\n",
        "from selenium.webdriver.support.ui import WebDriverWait\n",
        "from selenium.webdriver.support import expected_conditions as EC\n",
        "from selenium.webdriver.common.action_chains import ActionChains\n",
        "options = webdriver.ChromeOptions()\n",
        "options.add_argument('--headless')\n",
        "options.add_argument('--no-sandbox')\n",
        "options.add_argument('--disable-dev-shm-usage')\n",
        "driver = webdriver.Chrome(options=options)"
      ]
    },
    {
      "cell_type": "markdown",
      "source": [
        "## Scrapping"
      ],
      "metadata": {
        "id": "M9cztWt7a5Q0"
      }
    },
    {
      "cell_type": "code",
      "execution_count": null,
      "metadata": {
        "id": "iDX-NOtogvsM"
      },
      "outputs": [],
      "source": [
        "import time\n",
        "LOGIN = ''\n",
        "PASSWORD = ''\n",
        "\n",
        "driver.set_window_size(2000, 1000)\n",
        "\n",
        "driver.get('https://familio.org')\n",
        "\n",
        "time.sleep(5)\n",
        "\n",
        "wait = WebDriverWait(driver, 20)\n",
        "\n",
        "login_button = wait.until(EC.element_to_be_clickable((By.XPATH, '//*[@data-testid=\"login-button\"]')))\n",
        "login_button.click()\n",
        "\n",
        "username_input = driver.find_element(By.NAME, 'login')\n",
        "password_input = driver.find_element(By.NAME, 'password')\n",
        "\n",
        "username_input.send_keys(LOGIN)\n",
        "password_input.send_keys(PASSWORD)\n",
        "\n",
        "submit_button = driver.find_element(By.CSS_SELECTOR, '.loginForm-submitButton')\n",
        "submit_button.click()\n",
        "\n",
        "time.sleep(25)\n",
        "\n",
        "\n",
        "driver.set_window_size(600, 600)"
      ]
    },
    {
      "cell_type": "code",
      "execution_count": null,
      "metadata": {
        "colab": {
          "background_save": true
        },
        "id": "Hrqap8Egh4v3"
      },
      "outputs": [],
      "source": [
        "import time\n",
        "import csv\n",
        "\n",
        "start_page = 10101\n",
        "end_page   = 25200\n",
        "pages_per_file = 100\n",
        "\n",
        "\n",
        "pages_to_scrap = list(range(start_page, end_page+1))\n",
        "page_groups = [pages_to_scrap[i:i+pages_per_file] for i in range(0, len(pages_to_scrap), pages_per_file)]\n",
        "\n",
        "for page_group in page_groups:\n",
        "    data = []\n",
        "    for page_num in page_group:\n",
        "\n",
        "        driver.get('https://familio.org/knowledge-base/catalogs/duma1906?page-records=' + str(page_num))\n",
        "\n",
        "\n",
        "        print('Processing page ' + str(page_num))\n",
        "\n",
        "        rows = driver.find_elements(By.CSS_SELECTOR, '.catalogTable-tableRow')\n",
        "\n",
        "        # Skip the first row\n",
        "        for row in rows[1:]:\n",
        "            link = row.find_element(By.CSS_SELECTOR, 'a').get_attribute('href')\n",
        "\n",
        "            driver.execute_script(f'window.open(\"{link}\", \"_blank\");')\n",
        "\n",
        "            driver.switch_to.window(driver.window_handles[-1])\n",
        "\n",
        "\n",
        "\n",
        "            data_elements = driver.find_elements(By.CSS_SELECTOR, '.catalogPerson-data dl dt, .catalogPerson-data dl dd')\n",
        "            data.append({data_elements[i].text: data_elements[i+1].text for i in range(0, len(data_elements), 2)})\n",
        "\n",
        "\n",
        "            driver.close()\n",
        "\n",
        "            driver.switch_to.window(driver.window_handles[0])\n",
        "\n",
        "\n",
        "\n",
        "    csv_file = \"drive/MyDrive/scrapper-data_old/{}-{}.csv\".format(page_group[0], page_group[-1])\n",
        "\n",
        "    with open(csv_file, 'w', newline='', encoding='utf-8') as f:\n",
        "        writer = csv.DictWriter(f, fieldnames=data[0].keys())\n",
        "        writer.writeheader()\n",
        "        writer.writerows(data)\n",
        "\n",
        "\n",
        "driver.quit()"
      ]
    }
  ],
  "metadata": {
    "colab": {
      "provenance": []
    },
    "kernelspec": {
      "display_name": "Python 3",
      "name": "python3"
    },
    "language_info": {
      "name": "python"
    }
  },
  "nbformat": 4,
  "nbformat_minor": 0
}