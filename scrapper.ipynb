{
  "nbformat": 4,
  "nbformat_minor": 0,
  "metadata": {
    "colab": {
      "provenance": []
    },
    "kernelspec": {
      "name": "python3",
      "display_name": "Python 3"
    },
    "language_info": {
      "name": "python"
    }
  },
  "cells": [
    {
      "cell_type": "markdown",
      "source": [
        "## Установка зависимостей"
      ],
      "metadata": {
        "id": "9hUcN3SGZuG9"
      }
    },
    {
      "cell_type": "code",
      "execution_count": null,
      "metadata": {
        "id": "W0i_jtFHhR_q"
      },
      "outputs": [],
      "source": [
        "!pip install selenium\n",
        "!pip install webdriver_manager\n",
        "!apt-get update\n",
        "!apt install chromium-chromedriver\n",
        "!cp /usr/lib/chromium-browser/chromedriver /usr/bin\n",
        "import sys\n",
        "sys.path.insert(0,'/usr/lib/chromium-browser/chromedriver')"
      ]
    },
    {
      "cell_type": "markdown",
      "source": [
        "## Запуск браузера"
      ],
      "metadata": {
        "id": "bZ9uFSxtZ0yL"
      }
    },
    {
      "cell_type": "code",
      "source": [
        "from selenium import webdriver\n",
        "from selenium.webdriver.chrome.service import Service\n",
        "from webdriver_manager.chrome import ChromeDriverManager\n",
        "from selenium.webdriver.common.by import By\n",
        "from selenium.webdriver.chrome.options import Options\n",
        "from selenium.webdriver.support.ui import WebDriverWait\n",
        "from selenium.webdriver.support import expected_conditions as EC\n",
        "from selenium.webdriver.common.action_chains import ActionChains\n",
        "options = webdriver.ChromeOptions()\n",
        "options.add_argument('--headless')\n",
        "options.add_argument('--no-sandbox')\n",
        "options.add_argument('--disable-dev-shm-usage')\n",
        "driver = webdriver.Chrome(options=options)"
      ],
      "metadata": {
        "id": "bWYGzOeUhV1Y"
      },
      "execution_count": null,
      "outputs": []
    },
    {
      "cell_type": "markdown",
      "source": [
        "## Scrapping"
      ],
      "metadata": {
        "id": "XUZfDlfBZ5tC"
      }
    },
    {
      "cell_type": "code",
      "source": [
        "import time\n",
        "import csv\n",
        "\n",
        "start_page = 10101\n",
        "end_page   = 25200\n",
        "pages_per_file = 100\n",
        "\n",
        "\n",
        "pages_to_scrap = list(range(start_page, end_page+1))\n",
        "page_groups = [pages_to_scrap[i:i+pages_per_file] for i in range(0, len(pages_to_scrap), pages_per_file)]\n",
        "\n",
        "for page_group in page_groups:\n",
        "    data = []\n",
        "    for page_num in page_group:\n",
        "        driver.get('https://familio.org/knowledge-base/catalogs/duma1906?page-records=' + str(page_num))\n",
        "\n",
        "        print('Processing page ' + str(page_num))\n",
        "\n",
        "        rows = driver.find_elements(By.CSS_SELECTOR, '.catalogTable-tableRow')\n",
        "\n",
        "        # Skip the first row\n",
        "        for row in rows[1:]:\n",
        "            columns = row.find_elements(By.CSS_SELECTOR, 'a, span')\n",
        "            person = [column.text for column in columns]\n",
        "            person = {'Избиратель': person[0], 'Сословие': person[1], 'Занятие': person[2], 'Адрес': person[3], 'Источник': person[4]}\n",
        "            data.append(person)\n",
        "\n",
        "\n",
        "\n",
        "    csv_file = \"drive/MyDrive/scrapper-data/{}-{}.csv\".format(page_group[0], page_group[-1])\n",
        "\n",
        "    with open(csv_file, 'w', newline='', encoding='utf-8') as f:\n",
        "        writer = csv.DictWriter(f, fieldnames=data[0].keys())\n",
        "        writer.writeheader()\n",
        "        writer.writerows(data)\n",
        "\n",
        "\n",
        "driver.quit()"
      ],
      "metadata": {
        "colab": {
          "base_uri": "https://localhost:8080/"
        },
        "id": "mxN208yPhX_A",
        "outputId": "414cb5fc-1612-4582-ff3b-b1fa4e764126"
      },
      "execution_count": null,
      "outputs": [
        {
          "output_type": "stream",
          "name": "stdout",
          "text": [
            "Processing page 25101\n",
            "Processing page 25102\n",
            "Processing page 25103\n",
            "Processing page 25104\n",
            "Processing page 25105\n",
            "Processing page 25106\n",
            "Processing page 25107\n",
            "Processing page 25108\n",
            "Processing page 25109\n",
            "Processing page 25110\n",
            "Processing page 25111\n",
            "Processing page 25112\n",
            "Processing page 25113\n",
            "Processing page 25114\n",
            "Processing page 25115\n",
            "Processing page 25116\n",
            "Processing page 25117\n",
            "Processing page 25118\n",
            "Processing page 25119\n",
            "Processing page 25120\n",
            "Processing page 25121\n",
            "Processing page 25122\n",
            "Processing page 25123\n",
            "Processing page 25124\n",
            "Processing page 25125\n",
            "Processing page 25126\n",
            "Processing page 25127\n",
            "Processing page 25128\n",
            "Processing page 25129\n",
            "Processing page 25130\n",
            "Processing page 25131\n",
            "Processing page 25132\n",
            "Processing page 25133\n",
            "Processing page 25134\n",
            "Processing page 25135\n",
            "Processing page 25136\n",
            "Processing page 25137\n",
            "Processing page 25138\n",
            "Processing page 25139\n",
            "Processing page 25140\n",
            "Processing page 25141\n",
            "Processing page 25142\n",
            "Processing page 25143\n",
            "Processing page 25144\n",
            "Processing page 25145\n",
            "Processing page 25146\n",
            "Processing page 25147\n",
            "Processing page 25148\n",
            "Processing page 25149\n",
            "Processing page 25150\n",
            "Processing page 25151\n",
            "Processing page 25152\n",
            "Processing page 25153\n",
            "Processing page 25154\n",
            "Processing page 25155\n",
            "Processing page 25156\n",
            "Processing page 25157\n",
            "Processing page 25158\n",
            "Processing page 25159\n",
            "Processing page 25160\n",
            "Processing page 25161\n",
            "Processing page 25162\n",
            "Processing page 25163\n",
            "Processing page 25164\n",
            "Processing page 25165\n",
            "Processing page 25166\n",
            "Processing page 25167\n",
            "Processing page 25168\n",
            "Processing page 25169\n",
            "Processing page 25170\n",
            "Processing page 25171\n",
            "Processing page 25172\n",
            "Processing page 25173\n",
            "Processing page 25174\n",
            "Processing page 25175\n",
            "Processing page 25176\n",
            "Processing page 25177\n",
            "Processing page 25178\n",
            "Processing page 25179\n",
            "Processing page 25180\n",
            "Processing page 25181\n",
            "Processing page 25182\n",
            "Processing page 25183\n",
            "Processing page 25184\n",
            "Processing page 25185\n",
            "Processing page 25186\n",
            "Processing page 25187\n",
            "Processing page 25188\n",
            "Processing page 25189\n",
            "Processing page 25190\n",
            "Processing page 25191\n",
            "Processing page 25192\n",
            "Processing page 25193\n",
            "Processing page 25194\n",
            "Processing page 25195\n",
            "Processing page 25196\n",
            "Processing page 25197\n",
            "Processing page 25198\n",
            "Processing page 25199\n",
            "Processing page 25200\n"
          ]
        }
      ]
    }
  ]
}